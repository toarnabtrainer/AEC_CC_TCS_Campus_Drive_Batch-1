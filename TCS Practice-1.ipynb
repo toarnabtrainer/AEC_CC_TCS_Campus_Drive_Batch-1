{
 "cells": [
  {
   "cell_type": "markdown",
   "id": "1c98bdfe-4613-47ee-b25f-aff91943cbb4",
   "metadata": {},
   "source": [
    "### **CATSDOGS**"
   ]
  },
  {
   "cell_type": "code",
   "execution_count": null,
   "id": "14783339-5d59-4abc-97ec-b6d63649ee4c",
   "metadata": {},
   "outputs": [],
   "source": [
    "// https://www.codechef.com/PRACTICE/problems/CATSDOGS\n",
    "// in C++\n",
    "#include <iostream>\n",
    "using namespace std;\n",
    "int main() {\n",
    "    long long int test_cases, cats, dogs, legs, min_legs, max_legs;\n",
    "    cin >> test_cases;\n",
    "    while (test_cases--) {\n",
    "        cin >> cats >> dogs >> legs;\n",
    "        max_legs = (cats + dogs) * 4;\n",
    "        if (cats > (2 * dogs)) {\n",
    "            min_legs = (cats - (dogs * 2) + dogs) * 4;\n",
    "        } else {\n",
    "            min_legs = dogs * 4;\n",
    "        }\n",
    "        if (legs % 4 == 0 && legs >= min_legs && legs <= max_legs) {\n",
    "            cout << \"yes\" << endl;\n",
    "        } else {\n",
    "            cout << \"no\" << endl;\n",
    "        }\n",
    "    }\n",
    "}"
   ]
  },
  {
   "cell_type": "code",
   "execution_count": null,
   "id": "0f8885b8-0c1f-418c-9baa-f4ea4376e705",
   "metadata": {},
   "outputs": [],
   "source": [
    "# in Python\n",
    "# cook your dish here\n",
    "test_cases = int(input())\n",
    " \n",
    "for _ in range(test_cases):\n",
    "    cats, dogs, legs = map(int, input().split())\n",
    "    max_legs = (cats + dogs) * 4\n",
    " \n",
    "    if cats > (2 * dogs):\n",
    "        min_legs = (cats - (dogs * 2) + dogs) * 4\n",
    "    else:\n",
    "        min_legs = dogs * 4\n",
    " \n",
    "    if legs % 4 == 0 and min_legs <= legs <= max_legs:\n",
    "        print(\"yes\")\n",
    "    else:\n",
    "        print(\"no\")"
   ]
  },
  {
   "cell_type": "code",
   "execution_count": null,
   "id": "8e42c86b-16b1-40ec-80f5-6f5cd7f6876e",
   "metadata": {},
   "outputs": [],
   "source": [
    "# in Java\n",
    "import java.util.*;\n",
    "import java.lang.*;\n",
    "import java.io.*;\n",
    " \n",
    "class Main\n",
    "{\n",
    "    public static void main (String[] args) throws java.lang.Exception\n",
    "    {\n",
    "        // your code goes here\n",
    "        Scanner sc = new Scanner(System.in);\n",
    "        long test = sc.nextLong();\n",
    "        long mini =0,maxi=0;\n",
    "        //String a = \"yes\";\n",
    "        while(test-->0){\n",
    "            long C = sc.nextLong();\n",
    "            long D = sc.nextLong();\n",
    "            long L = sc.nextLong();\n",
    "            maxi = (C+D)*4;\n",
    "            if(C > 2*D){\n",
    "                mini = (C-2*D + D) *4;\n",
    "            } else{\n",
    "                mini  = D*4;\n",
    "            }\n",
    "            if(L%4==0 && L>=mini && L<=maxi){\n",
    "                System.out.println(\"yes\");\n",
    "            }\n",
    "            else{\n",
    "                System.out.println(\"no\");\n",
    "            }\n",
    "        }\n",
    "    }\n",
    "}\n"
   ]
  },
  {
   "cell_type": "markdown",
   "id": "852fcc43-6218-4055-9b6b-e45dd155ec5d",
   "metadata": {},
   "source": [
    "### **PIPSQUIK**"
   ]
  },
  {
   "cell_type": "code",
   "execution_count": null,
   "id": "2332d4ac-312f-4b0b-9cbf-eefaf901081e",
   "metadata": {},
   "outputs": [],
   "source": [
    "# in C++\n",
    "// https://www.codechef.com/practice/course/2-star-difficulty-problems/DIFF1500/problems/PIPSQUIK\n",
    "#include <iostream>\n",
    "#include <bits/stdc++.h>\n",
    "using namespace std;\n",
    "int main() {\n",
    "    int test_cases;\n",
    "    cin >> test_cases;\n",
    "    while (test_cases--) {\n",
    "        int n, h, y1, y2, l, d = 0;\n",
    "        cin >> n >> h >> y1 >> y2 >> l;\n",
    "        vector<pair<int, int>> v(n);\n",
    "        for (int i = 0; i < n; i++) {\n",
    "            int t, x;\n",
    "            cin >> t >> x;\n",
    "            v[i].first = t;\n",
    "            v[i].second = x;\n",
    "        }\n",
    "        for (int i = 0; i < n; i++) {\n",
    "            if (l == 0) break;\n",
    "            if (v[i].first == 1) {\n",
    "                cout << \"Type-1: \" << y1 << \" , \" << y2<< \" , \"  << l<< \" , \"  << d<< \" , \"  << v[i].second << endl; \n",
    "                if (h - y1 > v[i].second) l--;\n",
    "            } else {\n",
    "                cout << \"Type-2: \" << y1 << \" , \" << y2<< \" , \"  << l<< \" , \"  << d<< \" , \"  << v[i].second << endl; \n",
    "                if (y2 < v[i].second) l--;\n",
    "            }\n",
    "            d++;\n",
    "        }\n",
    "        if (l == 0) d--;\n",
    "        cout << d << endl;\n",
    "    }\n",
    "}"
   ]
  },
  {
   "cell_type": "code",
   "execution_count": null,
   "id": "6d59a60f-dff8-44ea-9761-5332a3cdd558",
   "metadata": {},
   "outputs": [],
   "source": [
    "# inPython\n",
    "t = int(input())\n",
    "for _ in range(t):\n",
    "    n, h, y1, y2, l = map(int, input().split())\n",
    "    cnt = 0\n",
    "    f = 0\n",
    "    for _ in range(n):\n",
    "        tp, x = map(int, input().split())\n",
    "        if tp == 1:\n",
    "            if (h - y1) <= x and not f:\n",
    "                cnt += 1\n",
    "            elif l > 0:\n",
    "                l -= 1\n",
    "                cnt += 1\n",
    "                if l == 0:\n",
    "                    cnt -= 1\n",
    "                    f = 1\n",
    "        else:\n",
    "            if y2 >= x and not f:\n",
    "                cnt += 1\n",
    "            elif l > 0:\n",
    "                l -= 1\n",
    "                cnt += 1\n",
    "                if l == 0:\n",
    "                    cnt -= 1\n",
    "                    f = 1\n",
    "    print(cnt)"
   ]
  },
  {
   "cell_type": "code",
   "execution_count": null,
   "id": "1d026e9e-1aa7-4181-8115-927b30916ff9",
   "metadata": {},
   "outputs": [],
   "source": [
    "# in Java\n",
    "import java.io.*;\n",
    "class GFG {\n",
    "    public static void main (String[] args) {\n",
    "        int n,h,y1,y2,l,x,t;\n",
    "        int count=0;\n",
    "        n=1;h=4;y1=1;y2=2;l=1;t=2;x=2;\n",
    "        for(int i=0;i<=n;i++){\n",
    "            if(t==2){\n",
    "               if(y2>x){\n",
    "                   count++;\n",
    "               }\n",
    "               else{\n",
    "                   count++;\n",
    "                   l=l-1;\n",
    "               }\n",
    "            }\n",
    "            else{\n",
    "                if(h-y2<x){\n",
    "                    count++;\n",
    "                }\n",
    "                else{\n",
    "                    count++;\n",
    "                    l=l-1;\n",
    "                }\n",
    "            }\n",
    "             if(l==0){\n",
    "                       System.out.println(count);\n",
    "                       break;\n",
    "                   }\n",
    "        }\n",
    "    }\n",
    "}"
   ]
  },
  {
   "cell_type": "code",
   "execution_count": null,
   "id": "66fbc3f3-3c9c-48a8-826d-c03d722e0c81",
   "metadata": {},
   "outputs": [],
   "source": [
    "# in Java\n",
    "import java.util.*;\n",
    "import java.lang.*;\n",
    "import java.io.*;\n",
    " \n",
    "class Main {\n",
    "    public static void main(String[] args) throws java.lang.Exception {\n",
    "        // your code goes here\n",
    "        Scanner sc = new Scanner(System.in);\n",
    "        int testCase = sc.nextInt();\n",
    "        while (testCase > 0) {\n",
    "            int n = sc.nextInt();\n",
    "            int h = sc.nextInt();\n",
    "            int y1 = sc.nextInt();\n",
    "            int y2 = sc.nextInt();\n",
    "            int l = sc.nextInt();\n",
    "            int barBreak = 0;\n",
    "            while (n > 0 && l > 0) {\n",
    "                int i = sc.nextInt();\n",
    "                int x = sc.nextInt();\n",
    "                if (i == 1) {\n",
    "                    if (x >= h || h - y1 <= x) {\n",
    "                        barBreak++;\n",
    "                    } else {\n",
    "                        l--;\n",
    "                        barBreak++;\n",
    "                    }\n",
    "                } else {\n",
    "                    if (y2 >= x) {\n",
    "                        barBreak++;\n",
    "                    } else {\n",
    "                        l--;\n",
    "                        barBreak++;\n",
    "                    }\n",
    "                }\n",
    "                n--;\n",
    "            }\n",
    "            testCase--;\n",
    "            if(l == 0)\n",
    "            System.out.println(barBreak - 1);\n",
    "            else\n",
    "            System.out.println(barBreak);\n",
    "        }\n",
    " \n",
    "    }\n",
    "}"
   ]
  },
  {
   "cell_type": "markdown",
   "id": "bf5d881b-9d96-4b7a-a807-be0c72d4fcbf",
   "metadata": {},
   "source": [
    "### **LC-33. Search in Rotated Sorted Array**"
   ]
  },
  {
   "cell_type": "code",
   "execution_count": null,
   "id": "f3256b39-d6dd-4730-b134-778e9202a9b2",
   "metadata": {},
   "outputs": [],
   "source": [
    "// https://leetcode.com/problems/search-in-rotated-sorted-array/\n",
    "// LC 33: Search in Rotated Sorted Array\n",
    "public class Main {\n",
    "    public int search(int [] nums, int target) {\n",
    "        int n = nums.length;\n",
    "        int left = 0;\n",
    "        int right = (n - 1);\n",
    "        while (left <= right) {\n",
    "            int mid = left + (right - left)/2;\n",
    "            if (nums[mid] == target) {\n",
    "                return mid;\n",
    "            }\n",
    "            if (nums[left] <= nums[mid]) {\n",
    "                if (target >= nums[left] && target <= nums[mid]) {\n",
    "                    right = mid - 1;\n",
    "                } else {\n",
    "                    left = mid + 1;\n",
    "                }\n",
    "            } else {\n",
    "                if (target >= nums[mid] && target <= nums[right]) {\n",
    "                    left = mid + 1;\n",
    "                } else {\n",
    "                    right = mid - 1;\n",
    "                }\n",
    "            }\n",
    "        }\n",
    "        return -1;\n",
    "    }\n",
    "\n",
    "    public static void main(String[] args) {\n",
    "        Main obj = new Main();\n",
    "        int nums1[] = {4,5,6,7,0,1,2};\n",
    "        System.out.println(obj.search(nums1, 0));\n",
    "        System.out.println(obj.search(nums1, 3));\n",
    "        int nums2[] = {1};\n",
    "        System.out.println(obj.search(nums2, 0));\n",
    "    }\n",
    "}"
   ]
  },
  {
   "cell_type": "markdown",
   "id": "936b1e5f-5b84-4769-b00b-361e1c33d288",
   "metadata": {},
   "source": [
    "### **Filling a Two-Dimensional Array in a Clockwise Spiral Manner**"
   ]
  },
  {
   "cell_type": "markdown",
   "id": "61ec0eea-449a-41ea-98a6-6f93a700302a",
   "metadata": {},
   "source": [
    "### **LC-59: Spiral Matrix II**"
   ]
  },
  {
   "cell_type": "code",
   "execution_count": null,
   "id": "5142a75b-47a6-46c6-bb5a-e3b16b864b93",
   "metadata": {},
   "outputs": [],
   "source": [
    "Fill up one 2D-Array with dimension nxn (where n is a user given integer), and fill up\n",
    "this matrix with values 1 to nxn in a clockwise spiral manner with all distinct numbers \n",
    "in the order. Filling should start from the left-top corner of the matrix.\n",
    "\n",
    "n = 5 (1 to 25)              r => row, c => col, rr => increment/decrement factor along the row (1, 0, -1)\n",
    "      0   1   2   3   4      cc => increment/decrement factor along the col (1, 0, -1)\n",
    "--------------------------   r = r + rr and c = c + cc => r += rr and c += cc\n",
    " 0 |  1   2   3   4   5      r = 0, c = 0, rr = 0, cc = 1\n",
    " 1 | 16  17  18  19   6        rr   cc (Clockwise fill up)\n",
    " 2 | 15  24  25  20   7      -----------             if (c == n or r == n or c == -1 or arr[r][c] != 0)\n",
    " 3 | 14  23  22  21   8         0    1    tt = rr\n",
    " 4 | 13  12  11  10   9         1    0    rr = cc\n",
    "--------------------------      0   -1    cc = -tt\n",
    "                               -1    0 \n",
    "n = 3 (1 to 9)               -----------\n",
    "      0   1   2                 0    1\n",
    "-----------------\n",
    " 0 |  1   2   3                rr   cc (Anti-Clockwise fill up)\n",
    " 1 |  8   9   4              -----------\n",
    " 2 |  7   6   5                 1    0\n",
    " ----------------               0    1    rr, cc = -cc, rr\n",
    "                               -1    0\n",
    "                                0   -1\n",
    "                             -----------\n",
    "                                1    0"
   ]
  },
  {
   "cell_type": "code",
   "execution_count": 13,
   "id": "aa30989b-eaa2-4696-9b23-6f625eee481f",
   "metadata": {},
   "outputs": [
    {
     "name": "stdin",
     "output_type": "stream",
     "text": [
      "Please enter the dimension of the array:  8\n"
     ]
    },
    {
     "name": "stdout",
     "output_type": "stream",
     "text": [
      "    1    2    3    4    5    6    7    8\n",
      "   28   29   30   31   32   33   34    9\n",
      "   27   48   49   50   51   52   35   10\n",
      "   26   47   60   61   62   53   36   11\n",
      "   25   46   59   64   63   54   37   12\n",
      "   24   45   58   57   56   55   38   13\n",
      "   23   44   43   42   41   40   39   14\n",
      "   22   21   20   19   18   17   16   15\n",
      "End of the program...\n"
     ]
    }
   ],
   "source": [
    "# https://leetcode.com/problems/spiral-matrix-ii/\n",
    "# LC-59: Spiral Matrix II\n",
    "n = int(input(\"Please enter the dimension of the array: \"))\n",
    "arr = [[0 for col in range(n)] for row in range(n)]\n",
    "# print (arr)\n",
    "r = c = rr = 0\n",
    "cc = 1\n",
    "for i in range(1, n * n + 1):\n",
    "    arr[r][c] = i\n",
    "    tr = r + rr; tc = c + cc\n",
    "    if (tc == n or tr == n or tc == -1 or arr[tr][tc] != 0):\n",
    "        rr, cc = cc, -rr\n",
    "    r = r + rr; c = c + cc\n",
    "# print (arr)\n",
    "for r in range(n):\n",
    "    for c in range(n):\n",
    "        print (\"%5d\"%arr[r][c], end = \"\")\n",
    "    print (\"\")\n",
    "print (\"End of the program...\")"
   ]
  },
  {
   "cell_type": "code",
   "execution_count": null,
   "id": "c60646b9-efd6-4ef5-acdd-857881716f85",
   "metadata": {},
   "outputs": [],
   "source": [
    "class Solution(object):\n",
    "    def generateMatrix(self, n):\n",
    "        \"\"\"\n",
    "        :type n: int\n",
    "        :rtype: List[List[int]]\n",
    "        \"\"\"\n",
    "        arr = [[0 for col in range(n)] for row in range(n)]\n",
    "        r = c = rr = 0\n",
    "        cc = 1\n",
    "        for i in range(1, n * n + 1):\n",
    "            arr[r][c] = i\n",
    "            tr = r + rr; tc = c + cc\n",
    "            if (tc == n or tr == n or tc == -1 or arr[tr][tc] != 0):\n",
    "                rr, cc = cc, -rr\n",
    "            r = r + rr; c = c + cc\n",
    "        return arr"
   ]
  },
  {
   "cell_type": "code",
   "execution_count": 17,
   "id": "779c0e68-6c12-48ec-97c7-2a104db2ed86",
   "metadata": {},
   "outputs": [
    {
     "name": "stdin",
     "output_type": "stream",
     "text": [
      "Please enter the dimension of the array:  5\n"
     ]
    },
    {
     "name": "stdout",
     "output_type": "stream",
     "text": [
      "    1   16   15   14   13\n",
      "    2   17   24   23   12\n",
      "    3   18   25   22   11\n",
      "    4   19   20   21   10\n",
      "    5    6    7    8    9\n",
      "End of the program...\n"
     ]
    }
   ],
   "source": [
    "# https://leetcode.com/problems/spiral-matrix-ii/\n",
    "# LC-59: Spiral Matrix II (Anti-Clockwise)\n",
    "n = int(input(\"Please enter the dimension of the array: \"))\n",
    "arr = [[0 for col in range(n)] for row in range(n)]\n",
    "# print (arr)\n",
    "r = c = cc = 0\n",
    "rr = 1\n",
    "for i in range(1, n * n + 1):\n",
    "    arr[r][c] = i\n",
    "    tr = r + rr; tc = c + cc\n",
    "    if (tc == n or tr == n or tr == -1 or arr[tr][tc] != 0):\n",
    "        rr, cc = -cc, rr\n",
    "    r = r + rr; c = c + cc\n",
    "# print (arr)\n",
    "for r in range(n):\n",
    "    for c in range(n):\n",
    "        print (\"%5d\"%arr[r][c], end = \"\")\n",
    "    print (\"\")\n",
    "print (\"End of the program...\")"
   ]
  },
  {
   "cell_type": "markdown",
   "id": "69bf0367-b079-43e9-938e-8c4d173ada4b",
   "metadata": {},
   "source": [
    "### **LC-54. Spiral Matrix**"
   ]
  },
  {
   "cell_type": "code",
   "execution_count": 21,
   "id": "8ae191b2-be2e-40b7-9343-91c2fcb841c8",
   "metadata": {},
   "outputs": [
    {
     "name": "stdout",
     "output_type": "stream",
     "text": [
      "[1, 2, 3, 4, 8, 12, 11, 10, 9, 5, 6, 7]\n"
     ]
    }
   ],
   "source": [
    "# https://leetcode.com/problems/spiral-matrix/\n",
    "# 54. Spiral Matrix\n",
    "class Solution(object):\n",
    "    def spiralOrder(self, matrix):\n",
    "        \"\"\"\n",
    "        :type matrix: List[List[int]]\n",
    "        :rtype: List[int]\n",
    "        \"\"\"\n",
    "        max_row = len(matrix)\n",
    "        if (max_row == 0): return []\n",
    "        max_col = len(matrix[0])\n",
    "        min_col = min_row = -1\n",
    "        arr1 = [0 for i in range(max_row * max_col)]\n",
    "        r = c = rr = 0; cc = 1\n",
    "        for i in range(max_row * max_col):\n",
    "            arr1[i] = matrix[r][c]\n",
    "            tr = r + rr; tc = c + cc\n",
    "            if (tc == max_col or tr == max_row or tc == min_col or tr == min_row):\n",
    "                if (tc == max_col): min_row += 1\n",
    "                elif (tr == max_row): max_col -= 1\n",
    "                elif (tc == min_col): max_row -= 1\n",
    "                elif (tr == min_row): min_col += 1\n",
    "                rr, cc = cc, -rr\n",
    "            r = r + rr; c = c + cc\n",
    "        return (arr1)\n",
    "        \n",
    "obj = Solution()\n",
    "print (obj.spiralOrder(\n",
    "    [[1,  2,  3,  4],\n",
    "     [5,  6,  7,  8],\n",
    "     [9, 10, 11, 12]]))\n",
    "\n",
    "# answer: [1, 2, 3, 4, 8, 12, 11, 10, 9, 5, 6, 7]"
   ]
  },
  {
   "cell_type": "code",
   "execution_count": null,
   "id": "60b0f6ed-5414-4de2-97df-da68159c6314",
   "metadata": {},
   "outputs": [],
   "source": [
    "# in Java\n",
    "class Solution {\n",
    "    public List<Integer> spiralOrder(int[][] matrix) {\n",
    "        int maxRow = matrix.length;\n",
    "        if (maxRow == 0) {\n",
    "            return new ArrayList<>();\n",
    "        }\n",
    "        int maxCol = matrix[0].length;\n",
    "        int minCol = -1;  \n",
    "        int minRow = -1;\n",
    "        List<Integer> result = new ArrayList<>();\n",
    "        int r = 0, c = 0, rr = 0, cc = 1;\n",
    "        // System.out.println(minRow + \", \" + minCol);\n",
    "        int count = maxRow * maxCol;\n",
    "        for (int i = 0; i < count; i++) {\n",
    "            // System.out.println(r + \", \" + c + \", \" + i);\n",
    "            result.add(matrix[r][c]);\n",
    "            int tr = r + rr, tc = c + cc;\n",
    "            if (tc == maxCol || tr == maxRow || tc == minCol || tr == minRow) {\n",
    "                if (tc == maxCol) minRow++;\n",
    "                else if (tr == maxRow) maxCol--;\n",
    "                else if (tc == minCol) maxRow--;\n",
    "                else if (tr == minRow) minCol++;\n",
    "                int temp = rr;\n",
    "                rr = cc; cc = -temp;\n",
    "            }\n",
    "            r += rr; c += cc;\n",
    "        }\n",
    "        return result;\n",
    "    }\n",
    "}"
   ]
  },
  {
   "cell_type": "markdown",
   "id": "4192809b-3a94-4025-bffc-39c2b948b417",
   "metadata": {},
   "source": [
    "### **LC-885: Spiral Matrix III**"
   ]
  },
  {
   "cell_type": "code",
   "execution_count": 31,
   "id": "1bfbdb88-66f8-4569-b91a-2b30f03b3857",
   "metadata": {},
   "outputs": [
    {
     "name": "stdout",
     "output_type": "stream",
     "text": [
      "[[30, 25, 16, 7, 8, 9], [29, 24, 15, 6, 1, 2], [28, 23, 14, 5, 4, 3], [27, 22, 13, 12, 11, 10], [26, 21, 20, 19, 18, 17]]\n",
      "[[1, 4], [1, 5], [2, 5], [2, 4], [2, 3], [1, 3], [0, 3], [0, 4], [0, 5], [3, 5], [3, 4], [3, 3], [3, 2], [2, 2], [1, 2], [0, 2], [4, 5], [4, 4], [4, 3], [4, 2], [4, 1], [3, 1], [2, 1], [1, 1], [0, 1], [4, 0], [3, 0], [2, 0], [1, 0], [0, 0]]\n"
     ]
    }
   ],
   "source": [
    "# https://leetcode.com/problems/spiral-matrix-iii/\n",
    "# LC-885: Spiral Matrix III\n",
    "import itertools\n",
    "class Solution(object):\n",
    "    def spiralMatrixIII(self, rows, cols, rStart, cStart):\n",
    "        \"\"\"\n",
    "        :type rows: int\n",
    "        :type cols: int\n",
    "        :type rStart: int\n",
    "        :type cStart: int\n",
    "        :rtype: List[List[int]]\n",
    "        \"\"\"\n",
    "        arr = [[0 for col in range(cols)] for row in range(rows)]\n",
    "        direction = itertools.cycle([(0, 1), (1, 0), (0, -1), (-1, 0)])\n",
    "        # print (arr)\n",
    "        ans = [[rStart, cStart]]\n",
    "        arr[rStart][cStart] = len(ans)\n",
    "        step = 0\n",
    "        while (len(ans) < rows * cols):\n",
    "            rr, cc = next(direction)\n",
    "            if (rr == 0): step += 1\n",
    "            for _ in range(step):\n",
    "                rStart += rr\n",
    "                cStart += cc\n",
    "                if (0 <= rStart < rows and 0 <= cStart < cols):\n",
    "                    ans.append([rStart, cStart])\n",
    "                    arr[rStart][cStart] = len(ans)\n",
    "        print (arr)\n",
    "        print (ans)\n",
    "\n",
    "ob1 = Solution()\n",
    "ob1.spiralMatrixIII(5, 6, 1, 4)\n",
    "\n",
    "# answer: [[1,4],[1,5],[2,5],[2,4],[2,3],[1,3],[0,3],[0,4],[0,5],[3,5],[3,4],\n",
    "# [3,3],[3,2],[2,2],[1,2],[0,2],[4,5],[4,4],[4,3],[4,2],[4,1],[3,1],[2,1],[1,1],\n",
    "# [0,1],[4,0],[3,0],[2,0],[1,0],[0,0]]"
   ]
  },
  {
   "cell_type": "code",
   "execution_count": 24,
   "id": "c419addd-f8bf-4375-8209-c9f323e1c0d1",
   "metadata": {},
   "outputs": [
    {
     "name": "stdout",
     "output_type": "stream",
     "text": [
      "<itertools.cycle object at 0x000001B4D6ED48C0>\n",
      "11\n",
      "22\n",
      "33\n",
      "44\n",
      "11\n",
      "22\n"
     ]
    }
   ],
   "source": [
    "import itertools\n",
    "my_list = [11, 22, 33, 44]\n",
    "iter_list = itertools.cycle(my_list)\n",
    "print (iter_list)\n",
    "print (next(iter_list))\n",
    "print (next(iter_list))\n",
    "print (next(iter_list))\n",
    "print (next(iter_list))\n",
    "print (next(iter_list))\n",
    "print (next(iter_list))"
   ]
  },
  {
   "cell_type": "code",
   "execution_count": 25,
   "id": "82bbbdd4-b5e9-4abe-a737-70a750ea1bb3",
   "metadata": {},
   "outputs": [
    {
     "name": "stdout",
     "output_type": "stream",
     "text": [
      "<itertools.cycle object at 0x000001B4D776FAC0>\n",
      "(0, 1)\n",
      "(1, 0)\n",
      "(0, -1)\n",
      "(-1, 0)\n",
      "(0, 1)\n",
      "(1, 0)\n"
     ]
    }
   ],
   "source": [
    "import itertools\n",
    "my_list = [(0, 1), (1, 0), (0, -1), (-1, 0)]\n",
    "iter_list = itertools.cycle(my_list)\n",
    "print (iter_list)\n",
    "print (next(iter_list))\n",
    "print (next(iter_list))\n",
    "print (next(iter_list))\n",
    "print (next(iter_list))\n",
    "print (next(iter_list))\n",
    "print (next(iter_list))"
   ]
  },
  {
   "cell_type": "code",
   "execution_count": 33,
   "id": "4d7b73ea-bac3-4a22-8ff2-863aefae156e",
   "metadata": {},
   "outputs": [
    {
     "name": "stdout",
     "output_type": "stream",
     "text": [
      "[[26, 17, 10, 5, 4, 3], [27, 18, 11, 6, 1, 2], [28, 19, 12, 7, 8, 9], [29, 20, 13, 14, 15, 16], [30, 21, 22, 23, 24, 25]]\n",
      "[[1, 4], [1, 5], [0, 5], [0, 4], [0, 3], [1, 3], [2, 3], [2, 4], [2, 5], [0, 2], [1, 2], [2, 2], [3, 2], [3, 3], [3, 4], [3, 5], [0, 1], [1, 1], [2, 1], [3, 1], [4, 1], [4, 2], [4, 3], [4, 4], [4, 5], [0, 0], [1, 0], [2, 0], [3, 0], [4, 0]]\n"
     ]
    }
   ],
   "source": [
    "# https://leetcode.com/problems/spiral-matrix-iii/\n",
    "# LC-885: Spiral Matrix III\n",
    "class Solution(object):\n",
    "    def spiralMatrixIII(self, rows, cols, rStart, cStart):\n",
    "        \"\"\"\n",
    "        :type rows: int\n",
    "        :type cols: int\n",
    "        :type rStart: int\n",
    "        :type cStart: int\n",
    "        :rtype: List[List[int]]\n",
    "        \"\"\"\n",
    "        arr = [[0 for col in range(cols)] for row in range(rows)]\n",
    "        direction = itertools.cycle([(0, 1), (1, 0), (0, -1), (-1, 0)])\n",
    "        # print (arr)\n",
    "        ans = [[rStart, cStart]]\n",
    "        arr[rStart][cStart] = len(ans)\n",
    "        step = 0\n",
    "        rr = 0; cc = 1\n",
    "        while (len(ans) < rows * cols):\n",
    "            if (rr == 0): step += 1\n",
    "            for _ in range(step):\n",
    "                rStart += rr\n",
    "                cStart += cc\n",
    "                if (0 <= rStart < rows and 0 <= cStart < cols):\n",
    "                    ans.append([rStart, cStart])\n",
    "                    arr[rStart][cStart] = len(ans)\n",
    "            rr, cc = -cc, rr\n",
    "        print (arr)\n",
    "        print (ans)\n",
    "\n",
    "ob1 = Solution()\n",
    "ob1.spiralMatrixIII(5, 6, 1, 4)\n",
    "\n",
    "# answer: [[1,4],[1,5],[2,5],[2,4],[2,3],[1,3],[0,3],[0,4],[0,5],[3,5],[3,4],\n",
    "# [3,3],[3,2],[2,2],[1,2],[0,2],[4,5],[4,4],[4,3],[4,2],[4,1],[3,1],[2,1],[1,1],\n",
    "# [0,1],[4,0],[3,0],[2,0],[1,0],[0,0]]"
   ]
  },
  {
   "cell_type": "markdown",
   "id": "9b33fae5-1589-4e27-96c6-f1c47d7e637d",
   "metadata": {},
   "source": [
    "### **Magic Square**"
   ]
  },
  {
   "cell_type": "code",
   "execution_count": null,
   "id": "275b2312-1643-42bc-9d73-86360e13b3ff",
   "metadata": {},
   "outputs": [],
   "source": [
    "Magic Square\n",
    "------------\n",
    "Fill up a matrix with dimension nxn (where n is one user given ODD integer number) with numbers 1 to nXn, using them\n",
    "once, in such a way that all row-wise, col-wise and both the diagonal-wise sums are equal to each other. The matrix thus\n",
    "obtained is called Magic Square and sum thus obtained is called Magic Sum.   \n",
    "                                                         n   Magic Sum                  row = 0\n",
    "n = 5 (User given ODD integer)      *   *   *          -----------------                col = int(n / 2) = n // 2 (in Python)\n",
    "                                   **  **  **  *         3      15                        \n",
    "      0   1   2   3   4           * * * * * * *          5      65                      row -= 1   col += 1\n",
    "--------------------------       *  **  **  **           7     175\n",
    " 0 | 17  24   1   8  15         *   *   *   *            n     n * (n*n + 1) / 2\n",
    " 1 | 23   5   7  14  16                                -----------------\n",
    " 2 |  4   6  13  20  22   \n",
    " 3 | 10  12  19  21   3         (1 to 3) 1. Out of range check:\n",
    " 4 | 11  18  25   2   9         (2/3)     a. Row-wise Folding: if (row == -1) then row = (n - 1)\n",
    "--------------------------      (3/2)     b. Col-wise Folding: if (col == n) then col = 0\n",
    "Magic sum = 65 for n = 5        (1)       c. Corner Logic: if (row == -1 and col == n) then row += 2 and col -= 1\n",
    "\n",
    "n = 3 (User given ODD integer)  (4)     2. Pre-Occcupied check:\n",
    "                                          if (matrix[row][col] != 0) then row += 2 and col -= 1\n",
    "      0   1   2   \n",
    "-----------------\n",
    " 0 |  8   1   6  \n",
    " 1 |  3   5   7     \n",
    " 2 |  4   9   2\n",
    "-----------------\n",
    "Magic sum = 15 for n = 3"
   ]
  },
  {
   "cell_type": "code",
   "execution_count": 9,
   "id": "cf4d0672-9c97-413b-ac37-0905774ae6b9",
   "metadata": {},
   "outputs": [
    {
     "name": "stdin",
     "output_type": "stream",
     "text": [
      "Please enter the ODD dimension number for the Matrix...  5\n"
     ]
    },
    {
     "name": "stdout",
     "output_type": "stream",
     "text": [
      "So the pre-calculated Magic Sum is 65...\n",
      "Filling up the matrix...\n",
      "Displaying the current conent of the matrix...\n",
      "   17   24    1    8   15\n",
      "   23    5    7   14   16\n",
      "    4    6   13   20   22\n",
      "   10   12   19   21    3\n",
      "   11   18   25    2    9\n",
      "So the post-calculated Magic Sum is 65...\n",
      "End of the program...\n"
     ]
    }
   ],
   "source": [
    "while (True):\n",
    "    n = int(input(\"Please enter the ODD dimension number for the Matrix... \"))\n",
    "    if (n % 2 == 1): break\n",
    "print (f\"So the pre-calculated Magic Sum is {n * (n*n + 1) // 2}...\")    \n",
    "matrix = [[0 for row in range(n)] for col in range(n)]\n",
    "row = 0; col = n // 2\n",
    "print (\"Filling up the matrix...\")\n",
    "magic_sum = 0\n",
    "for number in range(1, n ** 2 + 1):\n",
    "    matrix[row][col] = number\n",
    "    if (row == col): magic_sum += matrix[row][col]\n",
    "    row -= 1; col += 1\n",
    "    if (row == -1 and col == n): row += 2; col -= 1   # Corner Logic\n",
    "    elif (row == -1): row = (n - 1)                   # Row-wise Folding\n",
    "    elif (col == n): col = 0                          # Col-wise Folding\n",
    "    elif (matrix[row][col] != 0): row += 2; col -= 1  # Pre-Occcupied check\n",
    "print (\"Displaying the current conent of the matrix...\")\n",
    "for row in range(n):\n",
    "    for col in range(n):\n",
    "        print(\"%5d\"%matrix[row][col], end = \"\")\n",
    "    print (\"\")\n",
    "print (f\"So the post-calculated Magic Sum is {magic_sum}...\")\n",
    "print (\"End of the program...\")"
   ]
  },
  {
   "cell_type": "code",
   "execution_count": null,
   "id": "b5540ad8-8e2b-44be-85b6-087e105d812d",
   "metadata": {},
   "outputs": [],
   "source": [
    "# in C++\n",
    "#include <bits/stdc++.h>\n",
    " \n",
    "using namespace std;\n",
    " \n",
    "int main() {\n",
    "    int n;\n",
    "    cout<<\"Enter number of rows(Odd Number):- \";\n",
    "    cin>>n;\n",
    "    if(n % 2 == 0)\n",
    "        return 0;\n",
    "    cout<<endl<<\"Pre Calculated Magic Sum :- \" << ((n * (n*n + 1)) /2)<<endl<<endl;\n",
    "    vector<vector<int>> mat(n, vector<int> (n, 0));\n",
    "    int row = 0, col = n/2;\n",
    "    for(int i = 1; i <= n*n; i++) {\n",
    "        mat[row][col] = i;\n",
    "        row -= 1;\n",
    "        col += 1;\n",
    "        if(row == -1 && col == n) {\n",
    "            row += 2;\n",
    "            col -= 1;\n",
    "        }\n",
    "        else if(row == -1)\n",
    "            row = n-1;\n",
    "        else if(col == n)\n",
    "            col = 0;\n",
    "        else if(mat[row][col] != 0) {\n",
    "            row += 2;\n",
    "            col -= 1;\n",
    "        }\n",
    "    }\n",
    "    cout<<\"Magic Matrix is :- \"<<endl;\n",
    "    for(auto i : mat) {\n",
    "        for(auto j : i)\n",
    "            cout<<j<<\" \";\n",
    "        cout<<endl;\n",
    "    }\n",
    "    int magicSum = 0;\n",
    "    for(int i = 0; i < n; i++)\n",
    "        magicSum += mat[i][0];\n",
    "    cout<<endl<<\"And The Magic Sum is :- \"<< magicSum<<endl;\n",
    "    return 0;\n",
    "}"
   ]
  },
  {
   "cell_type": "code",
   "execution_count": null,
   "id": "ca5a758a-9ffa-4625-9afe-31cf463bcfd9",
   "metadata": {},
   "outputs": [],
   "source": [
    "# in Java\n",
    "/******************************************************************************\n",
    " \n",
    "Welcome to GDB Online.\n",
    "GDB online is an online compiler and debugger tool for C, C++, Python, Java, PHP, Ruby, Perl,\n",
    "C#, OCaml, VB, Swift, Pascal, Fortran, Haskell, Objective-C, Assembly, HTML, CSS, JS, SQLite, Prolog.\n",
    "Code, Compile, Run and Debug online from anywhere in world.\n",
    " \n",
    "*******************************************************************************/\n",
    "import java.util.Scanner;\n",
    "public class Main{\n",
    "\tpublic static void main(String[] args) {\n",
    "\t    Scanner scanner = new Scanner(System.in);\n",
    "        int n;\n",
    " \n",
    "        while (true) {\n",
    "            System.out.print(\"Please enter the ODD dimension number for the Matrix... \");\n",
    "            n=scanner.nextInt();\n",
    "            if (n%2 == 1) {\n",
    "                break;\n",
    "            }\n",
    "        }\n",
    " \n",
    "        System.out.println(\"So the pre-calculated Magic Sum is \" + (n*(n*n+1) / 2));\n",
    " \n",
    "        int[][] matrix = new int[n][n];\n",
    "        int row= 0, col= n/2;\n",
    "        System.out.println(\"Filling up the matrix...\");\n",
    " \n",
    "        int magicSum = 0;\n",
    "        for (int number = 1; number <= n*n; number++) {\n",
    "            matrix[row][col] = number;\n",
    "            if (row == col) {\n",
    "                magicSum += matrix[row][col];\n",
    "            }\n",
    "            row--;\n",
    "            col++;\n",
    " \n",
    "            if (row == -1 && col == n) {\n",
    "                row += 2;\n",
    "                col--;\n",
    "            } else if (row == -1) {\n",
    "                row= n-1;\n",
    "            } else if (col == n) {\n",
    "                col= 0;\n",
    "            } else if (matrix[row][col] != 0) {\n",
    "                row += 2;\n",
    "                col--;\n",
    "            }\n",
    "        }\n",
    " \n",
    "        System.out.println(\"Displaying the current content of the matrix...\");\n",
    "        for (int[] rowArr : matrix) {\n",
    "            for (int element : rowArr) {\n",
    "                System.out.printf(\"%5d\", element);\n",
    "            }\n",
    "            System.out.println();\n",
    "        }\n",
    " \n",
    "        System.out.println(\"So the post-calculated Magic Sum is \" + magicSum);\n",
    "        System.out.println(\"End of the program...\");\n",
    "\t}\n",
    "}"
   ]
  },
  {
   "cell_type": "markdown",
   "id": "19a627d0-f1a3-4b1b-9ea2-5a478092bfa9",
   "metadata": {},
   "source": [
    "### **Triode Number**"
   ]
  },
  {
   "cell_type": "code",
   "execution_count": null,
   "id": "6a8d9b01-ab10-4133-bffb-37cc6ad1f94e",
   "metadata": {},
   "outputs": [],
   "source": [
    "Triode Number:\n",
    "--------------\n",
    "Find out all possible 3-digits Triode Numbers. Let x be a Triode Number, then x, 2*x and 3*x will have all\n",
    "distinct digits. As example -\n",
    "if x = 219, then 2*x = 438 and 3*x = 657, so here, 219, 438 and 657 are having all distinct digits\n",
    "if x = 192, then 2*x = 384 and 3*x = 576, so here, 192, 384 and 576 are having all distinct digits\n",
    "\n",
    "Lower Limit for x => 100, 102\n",
    "Upper Limit for x => 987, 498\n",
    "\n",
    "  x => 3\n",
    "2*x => 3      4\n",
    "3*x => 3, 4   4"
   ]
  },
  {
   "cell_type": "code",
   "execution_count": 13,
   "id": "b5e8031b-27db-4a4c-ad85-92e58678f75b",
   "metadata": {},
   "outputs": [
    {
     "name": "stdout",
     "output_type": "stream",
     "text": [
      "x = 192, 2*x = 384 and 3*x = 576...\n",
      "[2, 9, 1, 4, 8, 3, 6, 7, 5] 9\n",
      "x = 219, 2*x = 438 and 3*x = 657...\n",
      "[9, 1, 2, 8, 3, 4, 7, 5, 6] 9\n",
      "x = 267, 2*x = 534 and 3*x = 801...\n",
      "[7, 6, 2, 4, 3, 5, 1, 0, 8] 9\n",
      "x = 273, 2*x = 546 and 3*x = 819...\n",
      "[3, 7, 2, 6, 4, 5, 9, 1, 8] 9\n",
      "x = 327, 2*x = 654 and 3*x = 981...\n",
      "[7, 2, 3, 4, 5, 6, 1, 8, 9] 9\n",
      "End of the program...\n"
     ]
    }
   ],
   "source": [
    "for triode_number in range(102, 499):\n",
    "    digits = []\n",
    "    for i in range(1, 4):\n",
    "        x = i * triode_number\n",
    "        while (x != 0):\n",
    "            last_digit = x % 10\n",
    "            if (last_digit not in digits):\n",
    "                digits.append(last_digit)\n",
    "                x = x // 10\n",
    "            else:\n",
    "                break\n",
    "        if (x != 0):\n",
    "            break\n",
    "    if (x == 0):\n",
    "        print (f\"x = {triode_number}, 2*x = {2*triode_number} and 3*x = {3*triode_number}...\")\n",
    "        print (digits, len(digits))\n",
    "print (\"End of the program...\")"
   ]
  },
  {
   "cell_type": "code",
   "execution_count": 10,
   "id": "28d6b641-5461-4f0f-ab9b-18c376715c6a",
   "metadata": {},
   "outputs": [
    {
     "name": "stdout",
     "output_type": "stream",
     "text": [
      "192\n",
      "219\n",
      "267\n",
      "273\n",
      "327\n"
     ]
    }
   ],
   "source": [
    "# in Python\n",
    "def check_distinct(n1, n2, n3):\n",
    "    all_digits = str(n1) + str(n2) + str(n3)\n",
    "    return len(set(all_digits)) == len(all_digits)\n",
    "\n",
    "for i in range(102, 499):\n",
    "    if check_distinct(i, 2*i, 3*i):\n",
    "        print(i)"
   ]
  },
  {
   "cell_type": "markdown",
   "id": "bbcffc60-96ff-488b-b012-6bb3ea4a4ff7",
   "metadata": {},
   "source": [
    "### **Saddle Point Number of a Matrix**"
   ]
  },
  {
   "cell_type": "code",
   "execution_count": null,
   "id": "abe29f82-b723-4477-8052-fde7d0bbb400",
   "metadata": {},
   "outputs": [],
   "source": [
    "Saddle Point Number of a Matrix\n",
    "-------------------------------\n",
    "Saddle Point Number of a matrix with dimension nxm (n and m are integers) at row r and column c\n",
    "is that number which is maximum along the row r and minimum along the col c or vice versa.\n",
    "When all the numbers in that matrix are equal then all of them will be the Saddle Point numbers.\n",
    "\n",
    "Example:\n",
    "Matrix with dimension 3x5\n",
    "      0   1   2   3   4\n",
    "--------------------------\n",
    " 0 | 17   6   1  18  15   18\n",
    " 1 | 13   5   7  14   6   14\n",
    " 2 | 14   6  13  20  22   22\n",
    "--------------------------\n",
    "So inthe above matrix Saddle Point Numbers are:\n",
    "14 at row 1 and col 3 as it is maximum along its row and minimum along its column\n",
    " 6 at row 2 and col 1 as it is minimum along its row and maximum along its column"
   ]
  },
  {
   "cell_type": "code",
   "execution_count": 11,
   "id": "7589e405-411c-4bea-b04e-f606b0e7c8b3",
   "metadata": {},
   "outputs": [
    {
     "name": "stdout",
     "output_type": "stream",
     "text": [
      "Saddle Point Number 14 located at Row = 1 and Col = 3...\n",
      "Saddle Point Number 6 located at Row = 2 and Col = 1...\n",
      "End of the program...\n"
     ]
    }
   ],
   "source": [
    "# my_data = [[11, 11, 11, 11, 11], [11, 11, 11, 11, 11], [11, 11, 11, 11, 11]]\n",
    "my_data = [[17, 6, 1, 18, 15], [13, 5, 7, 14, 6], [14, 6, 13, 20, 22]]\n",
    "max_row = len(my_data)\n",
    "max_col = len(my_data[0])\n",
    "# print (my_data, max_row, max_col)\n",
    "max_min = [0 for row in range(max_row)]\n",
    "flag = 1\n",
    "for k in range(2):\n",
    "    for row in range(max_row):\n",
    "        max_min[row] = my_data[row][0]\n",
    "        for col in range(max_col):\n",
    "            if (flag * max_min[row] < flag * my_data[row][col]): max_min[row] = my_data[row][col]\n",
    "    for col in range(max_col):\n",
    "        temp = my_data[0][col]\n",
    "        for row in range(1, max_row):\n",
    "            if (flag * temp > flag * my_data[row][col]): temp = my_data[row][col]\n",
    "        for row in range(max_row):\n",
    "            if (temp == my_data[row][col] and temp == max_min[row]):\n",
    "                print (f\"Saddle Point Number {temp} located at Row = {row} and Col = {col}...\")\n",
    "    flag = -flag\n",
    "print (\"End of the program...\")"
   ]
  },
  {
   "cell_type": "code",
   "execution_count": 3,
   "id": "0f9a3211-035c-4382-8d0b-8e25c1d05d2f",
   "metadata": {},
   "outputs": [
    {
     "name": "stdout",
     "output_type": "stream",
     "text": [
      "100\n",
      "-77\n"
     ]
    }
   ],
   "source": [
    "my_data = [11, 33, 22, 100, -77, 99]\n",
    "flag = 1\n",
    "for k in range(2):\n",
    "    max_min = my_data[0]\n",
    "    for i in range(1, len(my_data)):\n",
    "        if (flag * max_min < flag * my_data[i]):\n",
    "            max_min = my_data[i]\n",
    "    print (max_min)\n",
    "    flag = -flag"
   ]
  },
  {
   "cell_type": "code",
   "execution_count": null,
   "id": "cf71ca30-de97-4816-aed2-1f08d8e60efa",
   "metadata": {},
   "outputs": [],
   "source": []
  },
  {
   "cell_type": "code",
   "execution_count": null,
   "id": "56ed248e-062c-4a19-a435-7f33548bd43d",
   "metadata": {},
   "outputs": [],
   "source": []
  },
  {
   "cell_type": "code",
   "execution_count": null,
   "id": "16988edc-8e51-4e25-8a6f-e666a0180fe6",
   "metadata": {},
   "outputs": [],
   "source": []
  }
 ],
 "metadata": {
  "kernelspec": {
   "display_name": "Python 3 (ipykernel)",
   "language": "python",
   "name": "python3"
  },
  "language_info": {
   "codemirror_mode": {
    "name": "ipython",
    "version": 3
   },
   "file_extension": ".py",
   "mimetype": "text/x-python",
   "name": "python",
   "nbconvert_exporter": "python",
   "pygments_lexer": "ipython3",
   "version": "3.10.9"
  }
 },
 "nbformat": 4,
 "nbformat_minor": 5
}
